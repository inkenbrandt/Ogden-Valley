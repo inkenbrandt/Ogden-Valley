{
 "cells": [
  {
   "cell_type": "code",
   "execution_count": 6,
   "metadata": {
    "collapsed": true
   },
   "outputs": [],
   "source": [
    "import os, sys\n",
    "import swatcal\n",
    "from swatcal import nsga2, SWATutilities, nsga2utilities"
   ]
  },
  {
   "cell_type": "code",
   "execution_count": null,
   "metadata": {
    "collapsed": true
   },
   "outputs": [],
   "source": [
    "import spotpy"
   ]
  },
  {
   "cell_type": "code",
   "execution_count": 3,
   "metadata": {
    "collapsed": true
   },
   "outputs": [],
   "source": [
    "#---- Input ----(space on directory may cause problems during execution)\n",
    "#SWATtxtinoutDirectory = \"H:/GIS/Ogden_Valley/SWAT_2017_09_11/Scenarios/Complex_pump_09_13_2017/TxtInOut/\"\n",
    "#---------------\n",
    "SWATtxtinoutDirectory = \"C:/Users/PAULINKENBRANDT/PycharmProjects/swatcal/ExampleModel/swatTest/\""
   ]
  },
  {
   "cell_type": "code",
   "execution_count": 4,
   "metadata": {},
   "outputs": [
    {
     "name": "stdout",
     "output_type": "stream",
     "text": [
      "C:/Users/PAULINKENBRANDT/PycharmProjects/swatcal/ExampleModel/swatTest/\n"
     ]
    }
   ],
   "source": [
    "print(SWATtxtinoutDirectory)\n"
   ]
  },
  {
   "cell_type": "code",
   "execution_count": 7,
   "metadata": {},
   "outputs": [
    {
     "name": "stdout",
     "output_type": "stream",
     "text": [
      "Operating System is win32\n"
     ]
    },
    {
     "ename": "IndexError",
     "evalue": "list index out of range",
     "output_type": "error",
     "traceback": [
      "\u001b[1;31m---------------------------------------------------------------------------\u001b[0m",
      "\u001b[1;31mIndexError\u001b[0m                                Traceback (most recent call last)",
      "\u001b[1;32m<ipython-input-7-053d18041e99>\u001b[0m in \u001b[0;36m<module>\u001b[1;34m()\u001b[0m\n\u001b[1;32m----> 1\u001b[1;33m \u001b[0mNSGAII\u001b[0m\u001b[1;33m=\u001b[0m\u001b[0mswatcal\u001b[0m\u001b[1;33m.\u001b[0m\u001b[0mnsga2\u001b[0m\u001b[1;33m.\u001b[0m\u001b[0mnsga2\u001b[0m\u001b[1;33m(\u001b[0m\u001b[0mSWATtxtinoutDirectory\u001b[0m\u001b[1;33m)\u001b[0m\u001b[1;33m\u001b[0m\u001b[0m\n\u001b[0m\u001b[0;32m      2\u001b[0m \u001b[1;31m#NSGAII.CreateInitialPopulation()\u001b[0m\u001b[1;33m\u001b[0m\u001b[1;33m\u001b[0m\u001b[0m\n",
      "\u001b[1;32mC:\\Program Files\\ArcGIS\\Pro\\bin\\Python\\envs\\arcgispro-py3\\lib\\site-packages\\swatcal\\nsga2.py\u001b[0m in \u001b[0;36m__init__\u001b[1;34m(self, SWATtxtinoutFolderDirectory)\u001b[0m\n\u001b[0;32m    108\u001b[0m             \u001b[0mvlen\u001b[0m\u001b[1;33m.\u001b[0m\u001b[0mappend\u001b[0m\u001b[1;33m(\u001b[0m\u001b[0mbits\u001b[0m\u001b[1;33m)\u001b[0m  \u001b[1;31m# the no.of bits assigned to the %d variable\\n\"%(i+1)\u001b[0m\u001b[1;33m\u001b[0m\u001b[0m\n\u001b[0;32m    109\u001b[0m             \u001b[0mchrom\u001b[0m \u001b[1;33m+=\u001b[0m \u001b[0mbits\u001b[0m\u001b[1;33m\u001b[0m\u001b[0m\n\u001b[1;32m--> 110\u001b[1;33m             \u001b[0mparname\u001b[0m\u001b[1;33m.\u001b[0m\u001b[0mappend\u001b[0m\u001b[1;33m(\u001b[0m\u001b[0mlines\u001b[0m\u001b[1;33m[\u001b[0m\u001b[0mi\u001b[0m \u001b[1;33m+\u001b[0m \u001b[1;36m1\u001b[0m\u001b[1;33m]\u001b[0m\u001b[1;33m.\u001b[0m\u001b[0msplit\u001b[0m\u001b[1;33m(\u001b[0m\u001b[1;33m)\u001b[0m\u001b[1;33m[\u001b[0m\u001b[1;36m0\u001b[0m\u001b[1;33m]\u001b[0m\u001b[1;33m)\u001b[0m\u001b[1;33m\u001b[0m\u001b[0m\n\u001b[0m\u001b[0;32m    111\u001b[0m             lim_b.append([float(lines[i + 1].split()[1]),\n\u001b[0;32m    112\u001b[0m                           float(lines[i + 1].split()[2])])  # lower & the upper limits of the %d variable\\n\"%(i+1)\n",
      "\u001b[1;31mIndexError\u001b[0m: list index out of range"
     ]
    }
   ],
   "source": [
    "NSGAII=swatcal.nsga2.nsga2(SWATtxtinoutDirectory) \n",
    "#NSGAII.CreateInitialPopulation()"
   ]
  },
  {
   "cell_type": "code",
   "execution_count": null,
   "metadata": {
    "collapsed": true
   },
   "outputs": [],
   "source": [
    "#Loop through generations\n",
    "TotalNumGenerations = NSGAII.ngener\n",
    "print(TotalNumGenerations)\n",
    "\n",
    "i=0\n",
    "while i < TotalNumGenerations:\n",
    "    print(i)\n",
    "    NSGAII.CreateChildPopulation() #Thorough selection, crossover and mutation child population created from old population\n",
    "    \n",
    "    nsga2utilities.decode(NSGAII.new_pop_ptr, NSGAII.vlen, NSGAII.lim_b); #Turn binary calibration parameters into normal numbers.\n",
    "    #new_pop_ptr=child population. vlen=the no.of bits assigned to the each calibration parameters. lim_b=range of calibration parameters.\n",
    "    \n",
    "    SWATutilities.CalculateObjectiveFunctions(NSGAII.new_pop_ptr,NSGAII.Outlet_Obsdata,NSGAII.FuncOpt,NSGAII.FuncOptAvr,NSGAII.parname,i+1,NSGAII.SWATdir);\n",
    "    \n",
    "    NSGAII.CreateParentPopulation(i+1) # Old and New populations goes throuth Elitism, crowding distances, nondominated sorting\n",
    "    #and create the old population for next generation. Report is printed during this function process.\n",
    "    i+=1\n",
    "\n",
    "\n",
    "print(\"The NSGA-II execution finished. Look at the results in NSGA2.OUT folder.\");"
   ]
  },
  {
   "cell_type": "code",
   "execution_count": null,
   "metadata": {
    "collapsed": true
   },
   "outputs": [],
   "source": []
  }
 ],
 "metadata": {
  "kernelspec": {
   "display_name": "Python 3",
   "language": "python",
   "name": "python3"
  },
  "language_info": {
   "codemirror_mode": {
    "name": "ipython",
    "version": 3
   },
   "file_extension": ".py",
   "mimetype": "text/x-python",
   "name": "python",
   "nbconvert_exporter": "python",
   "pygments_lexer": "ipython3",
   "version": "3.5.3"
  }
 },
 "nbformat": 4,
 "nbformat_minor": 2
}
