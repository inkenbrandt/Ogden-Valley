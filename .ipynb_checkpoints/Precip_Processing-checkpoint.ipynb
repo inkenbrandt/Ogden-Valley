{
 "cells": [
  {
   "cell_type": "code",
   "execution_count": 1,
   "metadata": {},
   "outputs": [
    {
     "name": "stderr",
     "output_type": "stream",
     "text": [
      "C:\\Program Files\\ArcGIS\\Pro\\bin\\Python\\envs\\arcgispro-py3\\lib\\site-packages\\statsmodels\\compat\\pandas.py:56: FutureWarning: The pandas.core.datetools module is deprecated and will be removed in a future version. Please use the pandas.tseries module instead.\n",
      "  from pandas.core import datetools\n"
     ]
    }
   ],
   "source": [
    "%matplotlib inline\n",
    "import pandas as pd\n",
    "import numpy as np\n",
    "import urllib\n",
    "import folium\n",
    "import json\n",
    "import matplotlib.pyplot as plt\n",
    "import matplotlib.dates as dates\n",
    "import scipy\n",
    "import scipy.stats as sp\n",
    "import scipy.optimize as op\n",
    "import statsmodels.api as sm\n",
    "from scipy.stats import linregress\n",
    "from scipy.optimize import curve_fit\n",
    "from scipy import stats\n",
    "\n",
    "from datetime import datetime, date, timedelta\n",
    "from matplotlib.backends.backend_pdf import PdfPages\n",
    "#from matplotlib.pyplot import cm \n",
    "import platform\n",
    "import sys\n",
    "import glob\n",
    "\n",
    "import matplotlib as mpl\n",
    "import matplotlib.cm as cm\n",
    "import matplotlib.pyplot as plt\n",
    "import pyproj\n",
    "from pyproj import Proj\n",
    "import simplekml\n",
    "\n",
    "import os  \n",
    "import csv\n",
    "\n",
    "#import matplotlib\n",
    "from pylab import rcParams\n",
    "rcParams['figure.figsize'] = 15, 15"
   ]
  },
  {
   "cell_type": "code",
   "execution_count": 2,
   "metadata": {
    "collapsed": true
   },
   "outputs": [],
   "source": [
    "import wellapplication as wa"
   ]
  },
  {
   "cell_type": "code",
   "execution_count": 3,
   "metadata": {
    "collapsed": true
   },
   "outputs": [],
   "source": [
    "import arcpy\n",
    "from arcpy import env \n",
    "from arcpy.sa import *"
   ]
  },
  {
   "cell_type": "markdown",
   "metadata": {},
   "source": [
    "# Read Prism Output files"
   ]
  },
  {
   "cell_type": "markdown",
   "metadata": {
    "collapsed": true
   },
   "source": [
    "Use prism time series downloads to create faux weather stations for swat input."
   ]
  },
  {
   "cell_type": "code",
   "execution_count": 54,
   "metadata": {
    "collapsed": true
   },
   "outputs": [],
   "source": [
    "csv_file = r'C:\\Users\\PAULINKENBRANDT\\Downloads\\PRISM_ppt_tmin_tmax_provisional_4km_20000101_20170417_41.4218_-111.8846.csv'"
   ]
  },
  {
   "cell_type": "code",
   "execution_count": 107,
   "metadata": {},
   "outputs": [
    {
     "name": "stdout",
     "output_type": "stream",
     "text": [
      "PRISM_ppt_tmin_tmax_provisional_4km_20000101_20170417_41.2110_-111.7055.csv\n",
      "PRISM_ppt_tmin_tmax_provisional_4km_20000101_20170417_41.2233_-111.7475.csv\n",
      "PRISM_ppt_tmin_tmax_provisional_4km_20000101_20170417_41.2364_-111.6282.csv\n",
      "PRISM_ppt_tmin_tmax_provisional_4km_20000101_20170417_41.2445_-111.8369.csv\n",
      "PRISM_ppt_tmin_tmax_provisional_4km_20000101_20170417_41.2456_-111.8463.csv\n",
      "PRISM_ppt_tmin_tmax_provisional_4km_20000101_20170417_41.2687_-111.6830.csv\n",
      "PRISM_ppt_tmin_tmax_provisional_4km_20000101_20170417_41.2873_-111.6788.csv\n",
      "PRISM_ppt_tmin_tmax_provisional_4km_20000101_20170417_41.2883_-111.7090.csv\n",
      "PRISM_ppt_tmin_tmax_provisional_4km_20000101_20170417_41.2886_-111.8348.csv\n",
      "PRISM_ppt_tmin_tmax_provisional_4km_20000101_20170417_41.2895_-111.6334.csv\n",
      "PRISM_ppt_tmin_tmax_provisional_4km_20000101_20170417_41.2904_-111.7530.csv\n",
      "PRISM_ppt_tmin_tmax_provisional_4km_20000101_20170417_41.2914_-111.6376.csv\n",
      "PRISM_ppt_tmin_tmax_provisional_4km_20000101_20170417_41.2914_-111.8038.csv\n",
      "PRISM_ppt_tmin_tmax_provisional_4km_20000101_20170417_41.2955_-111.4921.csv\n",
      "PRISM_ppt_tmin_tmax_provisional_4km_20000101_20170417_41.2955_-111.5896.csv\n",
      "PRISM_ppt_tmin_tmax_provisional_4km_20000101_20170417_41.2976_-111.7530.csv\n",
      "PRISM_ppt_tmin_tmax_provisional_4km_20000101_20170417_41.2988_-111.5936.csv\n",
      "PRISM_ppt_tmin_tmax_provisional_4km_20000101_20170417_41.3050_-111.8277.csv\n",
      "PRISM_ppt_tmin_tmax_provisional_4km_20000101_20170417_41.3234_-111.8011.csv\n",
      "PRISM_ppt_tmin_tmax_provisional_4km_20000101_20170417_41.3265_-111.6692.csv\n",
      "PRISM_ppt_tmin_tmax_provisional_4km_20000101_20170417_41.3277_-111.7467.csv\n",
      "PRISM_ppt_tmin_tmax_provisional_4km_20000101_20170417_41.3296_-111.7132.csv\n",
      "PRISM_ppt_tmin_tmax_provisional_4km_20000101_20170417_41.3317_-111.8423.csv\n",
      "PRISM_ppt_tmin_tmax_provisional_4km_20000101_20170417_41.3358_-111.5539.csv\n",
      "PRISM_ppt_tmin_tmax_provisional_4km_20000101_20170417_41.3374_-111.8750.csv\n",
      "PRISM_ppt_tmin_tmax_provisional_4km_20000101_20170417_41.3426_-111.6852.csv\n",
      "PRISM_ppt_tmin_tmax_provisional_4km_20000101_20170417_41.3431_-111.5895.csv\n",
      "PRISM_ppt_tmin_tmax_provisional_4km_20000101_20170417_41.3467_-111.7483.csv\n",
      "PRISM_ppt_tmin_tmax_provisional_4km_20000101_20170417_41.3492_-111.8368.csv\n",
      "PRISM_ppt_tmin_tmax_provisional_4km_20000101_20170417_41.3655_-111.9155.csv\n",
      "PRISM_ppt_tmin_tmax_provisional_4km_20000101_20170417_41.3698_-111.7914.csv\n",
      "PRISM_ppt_tmin_tmax_provisional_4km_20000101_20170417_41.3708_-111.5058.csv\n",
      "PRISM_ppt_tmin_tmax_provisional_4km_20000101_20170417_41.3708_-111.9247.csv\n",
      "PRISM_ppt_tmin_tmax_provisional_4km_20000101_20170417_41.3739_-111.8807.csv\n",
      "PRISM_ppt_tmin_tmax_provisional_4km_20000101_20170417_41.3740_-111.9039.csv\n",
      "PRISM_ppt_tmin_tmax_provisional_4km_20000101_20170417_41.3751_-111.4721.csv\n",
      "PRISM_ppt_tmin_tmax_provisional_4km_20000101_20170417_41.3751_-111.6650.csv\n",
      "PRISM_ppt_tmin_tmax_provisional_4km_20000101_20170417_41.3760_-111.8285.csv\n",
      "PRISM_ppt_tmin_tmax_provisional_4km_20000101_20170417_41.3838_-111.7996.csv\n",
      "PRISM_ppt_tmin_tmax_provisional_4km_20000101_20170417_41.3877_-111.8448.csv\n",
      "PRISM_ppt_tmin_tmax_provisional_4km_20000101_20170417_41.4059_-111.6967.csv\n",
      "PRISM_ppt_tmin_tmax_provisional_4km_20000101_20170417_41.4069_-111.9507.csv\n",
      "PRISM_ppt_tmin_tmax_provisional_4km_20000101_20170417_41.4091_-111.9534.csv\n",
      "PRISM_ppt_tmin_tmax_provisional_4km_20000101_20170417_41.4132_-111.9506.csv\n"
     ]
    }
   ],
   "source": [
    "lat = []\n",
    "lon = []\n",
    "elev=[]\n",
    "idlist = []\n",
    "namelist = []\n",
    "tempnamelist = []\n",
    "csv.field_size_limit(500 * 1024 * 1024)\n",
    "csv_dir = 'C:/Users/PAULINKENBRANDT/Downloads/prismfiles/'\n",
    "i=0\n",
    "\n",
    "pptfile = {}\n",
    "tempfile = {}\n",
    "os.chdir(csv_dir)\n",
    "for csv_file in glob.glob(\"*.csv\"):\n",
    "    i += 1\n",
    "    idlist.append(i)\n",
    "    namelist.append('PRISM'+str(i))\n",
    "    tempnamelist.append('PTEMP'+str(i))\n",
    "    print(csv_file)\n",
    "    csvFileArray = []\n",
    "\n",
    "    with open(csv_file, newline='') as csvfile:\n",
    "        for row in csv.reader(csvfile):\n",
    "            csvFileArray.append(row)\n",
    "    loclist = str(csvFileArray[1]).split(':')\n",
    "    lat.append(float(loclist[2].split(' ')[1]))\n",
    "    lon.append(float(loclist[3].split(' ')[1]))\n",
    "    elev.append(float(loclist[4].split(' ')[1][:-3]))\n",
    "    \n",
    "    pptfile['PRISM'+str(i)] = pd.read_csv(csv_file,skiprows=10,usecols=[1])\n",
    "    pptfile['PRISM'+str(i)].columns = ['20000101']\n",
    "    pptfile['PRISM'+str(i)].to_csv(csv_dir+'outfiles/'+'PRISM'+str(i)+'.txt',index=False)\n",
    "    tempfile['PTEMP'+str(i)] = pd.read_csv(csv_file,skiprows=10,usecols=[2,3])\n",
    "    tempfile['PTEMP'+str(i)].columns = ['20000101','']\n",
    "    tempfile['PTEMP'+str(i)].to_csv(csv_dir+'outfiles/'+'PTEMP'+str(i)+'.txt',index=False)\n",
    "    \n",
    "colms = {'ID':idlist,'NAME':namelist,'LAT':lat,'LONG':lon,'ELEVATION':elev}\n",
    "df = pd.DataFrame(colms)\n",
    "df = df[['ID','NAME','LAT','LONG','ELEVATION']]\n",
    "df.to_csv(csv_dir+'outfiles/'+'ppt.txt',index=False)\n",
    "pptfile['PRISM1']\n",
    "\n",
    "colms2 = {'ID':idlist,'NAME':tempnamelist,'LAT':lat,'LONG':lon,'ELEVATION':elev}\n",
    "df2 = pd.DataFrame(colms2)\n",
    "df2 = df2[['ID','NAME','LAT','LONG','ELEVATION']]\n",
    "df2.to_csv(csv_dir+'outfiles/'+'temp.txt',index=False)\n"
   ]
  },
  {
   "cell_type": "markdown",
   "metadata": {},
   "source": [
    "Update text headers of temp stations"
   ]
  },
  {
   "cell_type": "code",
   "execution_count": 108,
   "metadata": {
    "collapsed": true
   },
   "outputs": [],
   "source": [
    "txt_dir = csv_dir + 'outfiles/'\n",
    "\n",
    "os.chdir(txt_dir)\n",
    "for inputFileName in glob.glob(\"PTEMP*\"):\n",
    "    outputFileName = txt_dir + '/newtemp/' + inputFileName\n",
    "    with open(inputFileName, newline='') as inFile, open(outputFileName, 'w', newline='') as outfile:\n",
    "        r = csv.reader(inFile)\n",
    "        w = csv.writer(outfile)\n",
    "\n",
    "        next(r, None)  # skip the first row from the reader, the old header\n",
    "        # write new header\n",
    "        w.writerow(['20000101'])\n",
    "\n",
    "        # copy the rest\n",
    "        for row in r:\n",
    "            w.writerow(row)"
   ]
  },
  {
   "cell_type": "markdown",
   "metadata": {},
   "source": [
    "# Aggregate text files"
   ]
  },
  {
   "cell_type": "code",
   "execution_count": 10,
   "metadata": {
    "collapsed": true
   },
   "outputs": [],
   "source": [
    "FullHRU = 'H:/GIS/Ogden_Valley/SWAT_09_2017/SWAT_09_2017.mdb/FullHRU'"
   ]
  },
  {
   "cell_type": "code",
   "execution_count": 12,
   "metadata": {
    "collapsed": true
   },
   "outputs": [],
   "source": [
    "hru = pd.read_csv(\"H:/GIS/Ogden_Valley/SWAT_09_2017/hru.txt\")"
   ]
  },
  {
   "cell_type": "code",
   "execution_count": 13,
   "metadata": {},
   "outputs": [
    {
     "data": {
      "text/plain": [
       "Index(['LULC', 'HRU', 'HRUGIS', 'SUB', 'YEAR', 'MON', 'AREAkm2', 'PRECIPmm',\n",
       "       'SNOWFALLmm', 'SNOWMELTmm', 'IRRmm', 'PETmm', 'ETmm', 'SW_INITmm',\n",
       "       'SW_ENDmm', 'PERCmm', 'GW_RCHGmm', 'DA_RCHGmm', 'REVAPmm', 'SA_IRRmm',\n",
       "       'DA_IRRmm', 'SA_STmm', 'DA_STmm', 'SURQ_GENmm', 'SURQ_CNTmm',\n",
       "       'TLOSS_mm', 'LATQ_mm', 'GW_Qmm', 'WYLD_Qmm', 'DAILYCN', 'TMP_AVdgC',\n",
       "       'TMP_MXdgC', 'TMP_MNdgC', 'SOL_TMPdgC', 'SOLARmj_m2', 'SYLDt_ha',\n",
       "       'USLEt_ha', 'N_APPkg_ha', 'P_APPkg_ha', 'N_AUTOkg_ha', 'P_AUTOkg_ha',\n",
       "       'NGRZkg_ha', 'PGRZkg_ha', 'NCFRTkg_ha', 'PCFRTkg_ha', 'NRAINkg_ha',\n",
       "       'NFIXkg_ha', 'F_MNkg_ha', 'A_MNkg_ha', 'A_SNkg_ha', 'F_MPkg_aha',\n",
       "       'AO_LPkg_ha', 'L_APkg_ha', 'A_SPkg_ha', 'DNITkg_ha', 'NUP_kg_ha',\n",
       "       'PUPkg_ha', 'ORGNkg_ha', 'ORGPkg_ha', 'SEDPkg_h', 'NSURQkg_ha',\n",
       "       'NLATQkg_ha', 'NO3Lkg_ha', 'NO3GWkg_ha', 'SOLPkg_ha', 'P_GWkg_ha',\n",
       "       'W_STRS', 'TMP_STRS', 'N_STRS', 'P_STRS', 'BIOMt_ha', 'LAI', 'YLDt_ha',\n",
       "       'BACTPct', 'BACTLPct', 'WATB_CLI', 'WATB_SOL', 'SNOmm', 'CMUPkg/ha',\n",
       "       'CMTOTkg/ha', 'QTILEmm', 'TNO3kg/ha', 'LNO3kg/ha', 'YYYYMM'],\n",
       "      dtype='object')"
      ]
     },
     "execution_count": 13,
     "metadata": {},
     "output_type": "execute_result"
    }
   ],
   "source": [
    "hru.columns"
   ]
  },
  {
   "cell_type": "code",
   "execution_count": 26,
   "metadata": {},
   "outputs": [
    {
     "data": {
      "text/plain": [
       "12.027916240736008"
      ]
     },
     "execution_count": 26,
     "metadata": {},
     "output_type": "execute_result"
    }
   ],
   "source": [
    "yearly_hru.DA_RCHGmm.mean()"
   ]
  },
  {
   "cell_type": "code",
   "execution_count": 46,
   "metadata": {},
   "outputs": [],
   "source": [
    "arcpy.env.workspace = r'H:\\GIS\\Ogden_Valley\\SWAT_09_2017\\OV_input.gdb'\n",
    "arcpy.env.overwriteOutput = True\n",
    "\n",
    "def aggregate_data(datatype):\n",
    "    data = pd.read_csv(\"H:/GIS/Ogden_Valley/SWAT_09_2017/{:}.txt\".format(datatype))\n",
    "    if datatype == 'hru':\n",
    "        keepers = ['HRUGIS', 'HRU', 'SUB', 'AREAkm2', 'PRECIPmm', 'MON','YEAR',\n",
    "                   'SNOWFALLmm', 'SNOWMELTmm', 'IRRmm', 'PETmm', 'ETmm', 'SW_INITmm',\n",
    "                   'SW_ENDmm', 'PERCmm', 'GW_RCHGmm', 'DA_RCHGmm', 'REVAPmm', 'SA_IRRmm',\n",
    "                   'DA_IRRmm', 'SA_STmm', 'DA_STmm', 'SURQ_GENmm', 'SURQ_CNTmm',\n",
    "                   'TLOSS_mm', 'LATQ_mm', 'GW_Qmm', 'WYLD_Qmm', 'DAILYCN', 'TMP_AVdgC',\n",
    "                   'TMP_MXdgC', 'TMP_MNdgC', 'SOL_TMPdgC', 'SOLARmj_m2', 'SNOmm']\n",
    "        \n",
    "        mean_monthly_data = data.groupby(['HRUGIS','MON']).mean().reset_index()\n",
    "        mean_monthly_data['HRUGIS'] = mean_monthly_data['HRUGIS'].apply(lambda x: str(x).zfill(9),1)\n",
    "        yearly_data = mean_monthly_data.groupby(['HRUGIS']).sum().reset_index()\n",
    "        yearly_data['HRUGIS'] = yearly_data['HRUGIS'].apply(lambda x: str(x).zfill(9),1) \n",
    "    elif datatype == 'sub' or datatype == 'rch':\n",
    "        keepers = data.columns\n",
    "        mean_monthly_data = data.groupby(['SUB','MON']).mean().reset_index()\n",
    "        yearly_data = mean_monthly_data.groupby(['SUB']).sum().reset_index()\n",
    "    else:\n",
    "        keepers = data.columns\n",
    "        mean_monthly_data = data.groupby(['RES','MON']).mean().reset_index()\n",
    "        mean_monthly_data = data.groupby(['RES']).mean().reset_index()\n",
    "     \n",
    "    mean_monthly_data = mean_monthly_data[keepers]\n",
    "\n",
    "    output = \"H:/GIS/Ogden_Valley/SWAT_09_2017/OV_input.gdb/{:}MonthlyData\".format(datatype)\n",
    "    output1 = \"H:/GIS/Ogden_Valley/SWAT_09_2017/OV_input.gdb/{:}YearlyData\".format(datatype)\n",
    "    output2 = \"H:/GIS/Ogden_Valley/SWAT_09_2017/OV_input.gdb/{:}AllData\".format(datatype)\n",
    "\n",
    "    def df_to_gdb(df,output):\n",
    "        x = np.array(np.rec.fromrecords(df.values))\n",
    "        names = df.dtypes.index.tolist()\n",
    "        x.dtype.names = tuple(names)\n",
    "        if arcpy.Exists(output):\n",
    "            arcpy.Delete_management(output)\n",
    "        arcpy.da.NumPyArrayToTable(x,output)\n",
    "    \n",
    "    df_to_gdb(mean_monthly_data,output)\n",
    "    df_to_gdb(yearly_data,output1)\n",
    "    df_to_gdb(data,output2)\n",
    "    \n",
    "    \n",
    "aggregate_data('hru')\n",
    "aggregate_data('sub')\n",
    "aggregate_data('rch')\n"
   ]
  },
  {
   "cell_type": "code",
   "execution_count": 50,
   "metadata": {},
   "outputs": [
    {
     "data": {
      "text/plain": [
       "<Result 'H:\\\\GIS\\\\Ogden_Valley\\\\SWAT_09_2017\\\\OV_input.gdb\\\\ov_hru_yearly'>"
      ]
     },
     "execution_count": 50,
     "metadata": {},
     "output_type": "execute_result"
    }
   ],
   "source": [
    "if arcpy.Exists(\"ov_hru_yearly\"):\n",
    "    arcpy.Delete_management(\"ov_hru_yearly\")\n",
    "arcpy.MakeFeatureLayer_management(\"ov_hru_Points\", \"ov_hru_yearly\")\n",
    "arcpy.AddJoin_management( \"ov_hru_yearly\", \"HRUGIS\", \"hruYearlyData\", \"HRUGIS\")\n",
    "arcpy.CopyFeatures_management( \"ov_hru_yearly\", \"ov_hru_yearly\")"
   ]
  },
  {
   "cell_type": "code",
   "execution_count": 53,
   "metadata": {},
   "outputs": [
    {
     "ename": "ExecuteError",
     "evalue": "ERROR 000358: Invalid expression\nFailed to execute (SelectLayerByAttribute).\n",
     "output_type": "error",
     "traceback": [
      "\u001b[1;31m---------------------------------------------------------------------------\u001b[0m",
      "\u001b[1;31mExecuteError\u001b[0m                              Traceback (most recent call last)",
      "\u001b[1;32m<ipython-input-53-0c1ec5d9dc81>\u001b[0m in \u001b[0;36m<module>\u001b[1;34m()\u001b[0m\n\u001b[0;32m     14\u001b[0m \u001b[1;33m\u001b[0m\u001b[0m\n\u001b[0;32m     15\u001b[0m \u001b[1;32mfor\u001b[0m \u001b[0mmonth\u001b[0m \u001b[1;32min\u001b[0m \u001b[0mrange\u001b[0m\u001b[1;33m(\u001b[0m\u001b[1;36m1\u001b[0m\u001b[1;33m,\u001b[0m\u001b[1;36m13\u001b[0m\u001b[1;33m)\u001b[0m\u001b[1;33m:\u001b[0m\u001b[1;33m\u001b[0m\u001b[0m\n\u001b[1;32m---> 16\u001b[1;33m     \u001b[0marcpy\u001b[0m\u001b[1;33m.\u001b[0m\u001b[0mSelectLayerByAttribute_management\u001b[0m \u001b[1;33m(\u001b[0m \u001b[1;34m\"ov_hru_Monthly\"\u001b[0m\u001b[1;33m,\u001b[0m \u001b[1;34m\"NEW_SELECTION\"\u001b[0m\u001b[1;33m,\u001b[0m \u001b[1;34m\"[MON] = {:}\"\u001b[0m\u001b[1;33m.\u001b[0m\u001b[0mformat\u001b[0m\u001b[1;33m(\u001b[0m\u001b[0mmonth\u001b[0m\u001b[1;33m)\u001b[0m\u001b[1;33m)\u001b[0m\u001b[1;33m\u001b[0m\u001b[0m\n\u001b[0m\u001b[0;32m     17\u001b[0m     \u001b[0marcpy\u001b[0m\u001b[1;33m.\u001b[0m\u001b[0mCopyFeatures_management\u001b[0m\u001b[1;33m(\u001b[0m \u001b[1;34m\"ov_hru_Monthly\"\u001b[0m\u001b[1;33m,\u001b[0m \u001b[1;34m\"ov_hru_Monthly_{:}\"\u001b[0m\u001b[1;33m.\u001b[0m\u001b[0mformat\u001b[0m\u001b[1;33m(\u001b[0m\u001b[0mmonth\u001b[0m\u001b[1;33m)\u001b[0m\u001b[1;33m)\u001b[0m\u001b[1;33m\u001b[0m\u001b[0m\n\u001b[0;32m     18\u001b[0m     \u001b[1;32mfor\u001b[0m \u001b[0mfield\u001b[0m \u001b[1;32min\u001b[0m \u001b[0mintfields\u001b[0m\u001b[1;33m:\u001b[0m\u001b[1;33m\u001b[0m\u001b[0m\n",
      "\u001b[1;32mC:\\Program Files\\ArcGIS\\Pro\\Resources\\ArcPy\\arcpy\\management.py\u001b[0m in \u001b[0;36mSelectLayerByAttribute\u001b[1;34m(in_layer_or_view, selection_type, where_clause, invert_where_clause)\u001b[0m\n\u001b[0;32m   6567\u001b[0m         \u001b[1;32mreturn\u001b[0m \u001b[0mretval\u001b[0m\u001b[1;33m\u001b[0m\u001b[0m\n\u001b[0;32m   6568\u001b[0m     \u001b[1;32mexcept\u001b[0m \u001b[0mException\u001b[0m \u001b[1;32mas\u001b[0m \u001b[0me\u001b[0m\u001b[1;33m:\u001b[0m\u001b[1;33m\u001b[0m\u001b[0m\n\u001b[1;32m-> 6569\u001b[1;33m         \u001b[1;32mraise\u001b[0m \u001b[0me\u001b[0m\u001b[1;33m\u001b[0m\u001b[0m\n\u001b[0m\u001b[0;32m   6570\u001b[0m \u001b[1;33m\u001b[0m\u001b[0m\n\u001b[0;32m   6571\u001b[0m \u001b[1;33m@\u001b[0m\u001b[0mgptooldoc\u001b[0m\u001b[1;33m(\u001b[0m\u001b[1;34m'SelectLayerByLocation_management'\u001b[0m\u001b[1;33m,\u001b[0m \u001b[1;32mNone\u001b[0m\u001b[1;33m)\u001b[0m\u001b[1;33m\u001b[0m\u001b[0m\n",
      "\u001b[1;32mC:\\Program Files\\ArcGIS\\Pro\\Resources\\ArcPy\\arcpy\\management.py\u001b[0m in \u001b[0;36mSelectLayerByAttribute\u001b[1;34m(in_layer_or_view, selection_type, where_clause, invert_where_clause)\u001b[0m\n\u001b[0;32m   6564\u001b[0m     \u001b[1;32mfrom\u001b[0m \u001b[0marcpy\u001b[0m\u001b[1;33m.\u001b[0m\u001b[0marcobjects\u001b[0m\u001b[1;33m.\u001b[0m\u001b[0marcobjectconversion\u001b[0m \u001b[1;32mimport\u001b[0m \u001b[0mconvertArcObjectToPythonObject\u001b[0m\u001b[1;33m\u001b[0m\u001b[0m\n\u001b[0;32m   6565\u001b[0m     \u001b[1;32mtry\u001b[0m\u001b[1;33m:\u001b[0m\u001b[1;33m\u001b[0m\u001b[0m\n\u001b[1;32m-> 6566\u001b[1;33m         \u001b[0mretval\u001b[0m \u001b[1;33m=\u001b[0m \u001b[0mconvertArcObjectToPythonObject\u001b[0m\u001b[1;33m(\u001b[0m\u001b[0mgp\u001b[0m\u001b[1;33m.\u001b[0m\u001b[0mSelectLayerByAttribute_management\u001b[0m\u001b[1;33m(\u001b[0m\u001b[1;33m*\u001b[0m\u001b[0mgp_fixargs\u001b[0m\u001b[1;33m(\u001b[0m\u001b[1;33m(\u001b[0m\u001b[0min_layer_or_view\u001b[0m\u001b[1;33m,\u001b[0m \u001b[0mselection_type\u001b[0m\u001b[1;33m,\u001b[0m \u001b[0mwhere_clause\u001b[0m\u001b[1;33m,\u001b[0m \u001b[0minvert_where_clause\u001b[0m\u001b[1;33m)\u001b[0m\u001b[1;33m,\u001b[0m \u001b[1;32mTrue\u001b[0m\u001b[1;33m)\u001b[0m\u001b[1;33m)\u001b[0m\u001b[1;33m)\u001b[0m\u001b[1;33m\u001b[0m\u001b[0m\n\u001b[0m\u001b[0;32m   6567\u001b[0m         \u001b[1;32mreturn\u001b[0m \u001b[0mretval\u001b[0m\u001b[1;33m\u001b[0m\u001b[0m\n\u001b[0;32m   6568\u001b[0m     \u001b[1;32mexcept\u001b[0m \u001b[0mException\u001b[0m \u001b[1;32mas\u001b[0m \u001b[0me\u001b[0m\u001b[1;33m:\u001b[0m\u001b[1;33m\u001b[0m\u001b[0m\n",
      "\u001b[1;32mC:\\Program Files\\ArcGIS\\Pro\\Resources\\ArcPy\\arcpy\\geoprocessing\\_base.py\u001b[0m in \u001b[0;36m<lambda>\u001b[1;34m(*args)\u001b[0m\n\u001b[0;32m    504\u001b[0m         \u001b[0mval\u001b[0m \u001b[1;33m=\u001b[0m \u001b[0mgetattr\u001b[0m\u001b[1;33m(\u001b[0m\u001b[0mself\u001b[0m\u001b[1;33m.\u001b[0m\u001b[0m_gp\u001b[0m\u001b[1;33m,\u001b[0m \u001b[0mattr\u001b[0m\u001b[1;33m)\u001b[0m\u001b[1;33m\u001b[0m\u001b[0m\n\u001b[0;32m    505\u001b[0m         \u001b[1;32mif\u001b[0m \u001b[0mcallable\u001b[0m\u001b[1;33m(\u001b[0m\u001b[0mval\u001b[0m\u001b[1;33m)\u001b[0m\u001b[1;33m:\u001b[0m\u001b[1;33m\u001b[0m\u001b[0m\n\u001b[1;32m--> 506\u001b[1;33m             \u001b[1;32mreturn\u001b[0m \u001b[1;32mlambda\u001b[0m \u001b[1;33m*\u001b[0m\u001b[0margs\u001b[0m\u001b[1;33m:\u001b[0m \u001b[0mval\u001b[0m\u001b[1;33m(\u001b[0m\u001b[1;33m*\u001b[0m\u001b[0mgp_fixargs\u001b[0m\u001b[1;33m(\u001b[0m\u001b[0margs\u001b[0m\u001b[1;33m,\u001b[0m \u001b[1;32mTrue\u001b[0m\u001b[1;33m)\u001b[0m\u001b[1;33m)\u001b[0m\u001b[1;33m\u001b[0m\u001b[0m\n\u001b[0m\u001b[0;32m    507\u001b[0m         \u001b[1;32melse\u001b[0m\u001b[1;33m:\u001b[0m\u001b[1;33m\u001b[0m\u001b[0m\n\u001b[0;32m    508\u001b[0m             \u001b[1;32mreturn\u001b[0m \u001b[0mconvertArcObjectToPythonObject\u001b[0m\u001b[1;33m(\u001b[0m\u001b[0mval\u001b[0m\u001b[1;33m)\u001b[0m\u001b[1;33m\u001b[0m\u001b[0m\n",
      "\u001b[1;31mExecuteError\u001b[0m: ERROR 000358: Invalid expression\nFailed to execute (SelectLayerByAttribute).\n"
     ]
    }
   ],
   "source": [
    "\n",
    "    \n",
    "intfields = ['PRECIPmm', 'SNOWFALLmm', 'SNOWMELTmm', 'IRRmm', 'PETmm', 'ETmm', 'SW_INITmm',\n",
    "             'SW_ENDmm', 'PERCmm', 'GW_RCHGmm', 'DA_RCHGmm',\n",
    "             'REVAPmm', 'SA_STmm', 'DA_STmm', 'SURQ_GENmm', 'SURQ_CNTmm',\n",
    "             'LATQ_mm', 'GW_Qmm', 'WYLD_Qmm','SNOmm']\n",
    "\n",
    "if arcpy.Exists(\"ov_hru_monthly\"):\n",
    "    arcpy.Delete_management(\"ov_hru_monthly\")\n",
    "arcpy.MakeFeatureLayer_management(\"ov_hru_Points\", \"ov_hru_monthly\")\n",
    "arcpy.AddJoin_management( \"ov_hru_Monthly\", \"HRUGIS\", \"hruMonthlyData\", \"HRUGIS\")\n",
    "arcpy.CopyFeatures_management( \"ov_hru_Monthly\", \"ov_hru_Monthly\")\n",
    "\n",
    "\n",
    "\n",
    "\n",
    "\n"
   ]
  },
  {
   "cell_type": "code",
   "execution_count": null,
   "metadata": {},
   "outputs": [],
   "source": [
    "for month in range(1,13):\n",
    "    arcpy.SelectLayerByAttribute_management ( \"ov_hru_Monthly\", \"NEW_SELECTION\", \"MON = {:}\".format(month))\n",
    "    arcpy.CopyFeatures_management( \"ov_hru_Monthly\", \"ov_hru_Monthly_{:}\".format(month))\n",
    "    for field in intfields:\n",
    "        rast = arcpy.sa.NaturalNeighbor(\"ov_hru_Monthly\",field,cell_size=100)\n",
    "        outExtractByMask = arcpy.sa.ExtractByMask(rast, \"Shed\")\n",
    "        outExtractByMask.save(\"{:}{:}\".format(field,str(month).zfill(2)))"
   ]
  },
  {
   "cell_type": "markdown",
   "metadata": {},
   "source": [
    "From this output, join the tables to a fishnet of points.  The exported feature class can then be exported."
   ]
  },
  {
   "cell_type": "markdown",
   "metadata": {
    "collapsed": true
   },
   "source": [
    "# Interpolating Points"
   ]
  },
  {
   "cell_type": "code",
   "execution_count": 30,
   "metadata": {},
   "outputs": [
    {
     "data": {
      "text/plain": [
       "['Shape',\n",
       " 'GRIDCODE',\n",
       " 'SUBBASIN',\n",
       " 'LU_NUM',\n",
       " 'LU_CODE',\n",
       " 'SOIL_NUM',\n",
       " 'SOIL_CODE',\n",
       " 'SLOPE_NUM',\n",
       " 'SLOPE_CODE',\n",
       " 'MEAN_SLOPE',\n",
       " 'AREA',\n",
       " 'UNIQUECOMB',\n",
       " 'HRUGIS',\n",
       " 'hruData_OBJECTID',\n",
       " 'hruData_HRUGIS',\n",
       " 'hruData_HRU',\n",
       " 'hruData_SUB',\n",
       " 'hruData_AREAkm2',\n",
       " 'OBJECTID_1',\n",
       " 'HRUGIS_1',\n",
       " 'HRU',\n",
       " 'SUB',\n",
       " 'AREAkm2',\n",
       " 'PRECIPmm',\n",
       " 'MON',\n",
       " 'YEAR',\n",
       " 'SNOWFALLmm',\n",
       " 'SNOWMELTmm',\n",
       " 'IRRmm',\n",
       " 'PETmm',\n",
       " 'ETmm',\n",
       " 'SW_INITmm',\n",
       " 'SW_ENDmm',\n",
       " 'PERCmm',\n",
       " 'GW_RCHGmm',\n",
       " 'DA_RCHGmm',\n",
       " 'REVAPmm',\n",
       " 'SA_IRRmm',\n",
       " 'DA_IRRmm',\n",
       " 'SA_STmm',\n",
       " 'DA_STmm',\n",
       " 'SURQ_GENmm',\n",
       " 'SURQ_CNTmm',\n",
       " 'TLOSS_mm',\n",
       " 'LATQ_mm',\n",
       " 'GW_Qmm',\n",
       " 'WYLD_Qmm',\n",
       " 'DAILYCN',\n",
       " 'TMP_AVdgC',\n",
       " 'TMP_MXdgC',\n",
       " 'TMP_MNdgC',\n",
       " 'SOL_TMPdgC',\n",
       " 'SOLARmj_m2',\n",
       " 'SNOmm']"
      ]
     },
     "execution_count": 30,
     "metadata": {},
     "output_type": "execute_result"
    }
   ],
   "source": [
    "arcpy.env.workspace = r'H:\\GIS\\Ogden_Valley\\SWAT_09_2017\\OV_input.gdb'\n",
    "\n",
    "def get_field_names(table):\n",
    "    read_descr = arcpy.Describe(table)\n",
    "    field_names = []\n",
    "    for field in read_descr.fields:\n",
    "        field_names.append(field.name)\n",
    "    field_names.remove('OBJECTID')\n",
    "    return field_names\n",
    "\n",
    "get_field_names('ov_hru_yearly')"
   ]
  },
  {
   "cell_type": "code",
   "execution_count": 37,
   "metadata": {},
   "outputs": [],
   "source": [
    "intfields = ['PRECIPmm', 'SNOWFALLmm', 'SNOWMELTmm', 'IRRmm', 'PETmm', 'ETmm', 'SW_INITmm',\n",
    "             'SW_ENDmm', 'PERCmm', 'GW_RCHGmm', 'DA_RCHGmm',\n",
    "             'REVAPmm', 'SA_STmm', 'DA_STmm', 'SURQ_GENmm', 'SURQ_CNTmm',\n",
    "             'LATQ_mm', 'GW_Qmm', 'WYLD_Qmm','SNOmm']\n",
    "\n",
    "for field in intfields:\n",
    "    rast = arcpy.sa.NaturalNeighbor('ov_hru',field,cell_size=100)\n",
    "    outExtractByMask = arcpy.sa.ExtractByMask(rast, \"Shed\")\n",
    "    outExtractByMask.save(field)"
   ]
  },
  {
   "cell_type": "code",
   "execution_count": 43,
   "metadata": {},
   "outputs": [
    {
     "data": {
      "text/plain": [
       "316824.7962236448"
      ]
     },
     "execution_count": 43,
     "metadata": {},
     "output_type": "execute_result"
    }
   ],
   "source": [
    "shed_area*810714"
   ]
  },
  {
   "cell_type": "code",
   "execution_count": null,
   "metadata": {
    "collapsed": true
   },
   "outputs": [],
   "source": [
    "10000 m2\n",
    "/1000"
   ]
  },
  {
   "cell_type": "code",
   "execution_count": 42,
   "metadata": {
    "collapsed": true
   },
   "outputs": [],
   "source": [
    "flow_out = (153.22+243.12+97.44) #mm\n",
    "shed_area = 791.44 * flow_out/1000000"
   ]
  }
 ],
 "metadata": {
  "kernelspec": {
   "display_name": "Python 3",
   "language": "python",
   "name": "python3"
  },
  "language_info": {
   "codemirror_mode": {
    "name": "ipython",
    "version": 3
   },
   "file_extension": ".py",
   "mimetype": "text/x-python",
   "name": "python",
   "nbconvert_exporter": "python",
   "pygments_lexer": "ipython3",
   "version": "3.5.3"
  }
 },
 "nbformat": 4,
 "nbformat_minor": 2
}
