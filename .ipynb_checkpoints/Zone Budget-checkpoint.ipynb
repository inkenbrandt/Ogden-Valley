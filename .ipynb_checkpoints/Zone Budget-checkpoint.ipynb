{
 "cells": [
  {
   "cell_type": "code",
   "execution_count": 1,
   "metadata": {
    "collapsed": false,
    "deletable": true,
    "editable": true
   },
   "outputs": [],
   "source": [
    "%matplotlib inline\n",
    "import pandas as pd\n",
    "import numpy as np\n",
    "import urllib2\n",
    "import folium\n",
    "import json\n",
    "import matplotlib.pyplot as plt\n",
    "import matplotlib.dates as dates\n",
    "import scipy\n",
    "import scipy.stats as sp\n",
    "import scipy.optimize as op\n",
    "import statsmodels.api as sm\n",
    "from scipy.stats import linregress\n",
    "from scipy.optimize import curve_fit\n",
    "from scipy import stats\n",
    "from pandas.stats.api import ols\n",
    "from datetime import datetime, date, timedelta\n",
    "from matplotlib.backends.backend_pdf import PdfPages\n",
    "#from matplotlib.pyplot import cm \n",
    "import platform\n",
    "import sys\n",
    "import glob\n",
    "\n",
    "import matplotlib as mpl\n",
    "import matplotlib.cm as cm\n",
    "\n",
    "import pyproj\n",
    "from pyproj import Proj\n",
    "import simplekml\n",
    "\n",
    "#import matplotlib\n",
    "from pylab import rcParams\n",
    "rcParams['figure.figsize'] = 15, 15"
   ]
  },
  {
   "cell_type": "code",
   "execution_count": 2,
   "metadata": {
    "collapsed": true,
    "deletable": true,
    "editable": true
   },
   "outputs": [],
   "source": [
    "import wellapplication as wa"
   ]
  },
  {
   "cell_type": "code",
   "execution_count": 4,
   "metadata": {
    "collapsed": false
   },
   "outputs": [],
   "source": [
    "try:\n",
    "    import archook #The module which locates arcgis\n",
    "    archook.get_arcpy()\n",
    "    import arcpy\n",
    "except ImportError:\n",
    "    print('nope')\n",
    "    # do whatever you do if arcpy isnt there."
   ]
  },
  {
   "cell_type": "code",
   "execution_count": 5,
   "metadata": {
    "collapsed": false,
    "deletable": true,
    "editable": true
   },
   "outputs": [
    {
     "name": "stdout",
     "output_type": "stream",
     "text": [
      "Operating System Windows 7\n",
      "Python Version 2.7.10 (default, May 23 2015, 09:40:32) [MSC v.1500 32 bit (Intel)]\n",
      "Pandas Version 0.19.1\n",
      "Numpy Version 1.11.2\n",
      "Matplotlib Version 1.5.3\n",
      "Well Application Version 0.4.26\n",
      "Scipy Version 0.17.0\n"
     ]
    }
   ],
   "source": [
    "print(\"Operating System \" + platform.system() + \" \" + platform.release())\n",
    "print(\"Python Version \" + str(sys.version))\n",
    "print(\"Pandas Version \" + str(pd.__version__))\n",
    "print(\"Numpy Version \" + str(np.__version__))\n",
    "print(\"Matplotlib Version \" + str(mpl.__version__))\n",
    "print(\"Well Application Version \" + str(wa.__version__))\n",
    "print(\"Scipy Version \" +str(scipy.__version__))"
   ]
  },
  {
   "cell_type": "code",
   "execution_count": 6,
   "metadata": {
    "collapsed": false,
    "deletable": true,
    "editable": true
   },
   "outputs": [],
   "source": [
    "from arcpy import env \n",
    "from arcpy.sa import *"
   ]
  },
  {
   "cell_type": "code",
   "execution_count": 7,
   "metadata": {
    "collapsed": false,
    "deletable": true,
    "editable": true
   },
   "outputs": [],
   "source": [
    "engineroute = \"E:/Google Drive/WORK/Round_Valley/Data/\"\n",
    "#engineroute = \"C:/Users/Brooke/Downloads/\"\n",
    "sys.path.append(engineroute)\n",
    "import enginegetter"
   ]
  },
  {
   "cell_type": "code",
   "execution_count": 8,
   "metadata": {
    "collapsed": false,
    "deletable": true,
    "editable": true
   },
   "outputs": [],
   "source": [
    "engine = enginegetter.getEngine()"
   ]
  },
  {
   "cell_type": "markdown",
   "metadata": {
    "deletable": true,
    "editable": true
   },
   "source": [
    "# Zonal Statistics"
   ]
  },
  {
   "cell_type": "code",
   "execution_count": null,
   "metadata": {
    "collapsed": false,
    "deletable": true,
    "editable": true
   },
   "outputs": [],
   "source": [
    "def zone_gdb(indata, z_Name, Zonal_HUCS, Zone_field, wildcard='*'):\n",
    "    arcpy.env.workspace = indata\n",
    "    arcpy.CheckOutExtension(\"Spatial\")\n",
    "\n",
    "\n",
    "    for rast in arcpy.ListRasters(wildcard):\n",
    "        dsc = arcpy.Describe(rast)\n",
    "        nm = dsc.baseName\n",
    "        arcpy.sa.ZonalStatisticsAsTable(Zonal_HUCS, Zone_field, rast, z_Name + \"z_\" + nm, \"DATA\", \"MEAN\")\n",
    "        print(\"z_\" + nm)\n",
    "       \n",
    "    \n",
    "#Zonal_HUCS = \"U:\\\\GWP\\\\Groundwater\\\\Projects\\\\BCM\\\\Data\\\\Calc.gdb\\\\Zonal_HUCS\"\n",
    "    \n",
    "#z_Name = \"U:\\\\GWP\\\\Groundwater\\\\Projects\\\\BCM\\\\Data\\\\Zonal2.gdb\\\\\"\n",
    "Zonal_HUCS = \"H:/GIS/Zonal2.gdb/Zonal_HUCS\"\n",
    "Zone_field = \"HUC_12\"\n",
    "z_Name = \"H:/GIS/Zonal2.gdb/\""
   ]
  },
  {
   "cell_type": "code",
   "execution_count": null,
   "metadata": {
    "collapsed": true,
    "deletable": true,
    "editable": true
   },
   "outputs": [],
   "source": [
    "indata = \"U:\\\\GWP\\\\Groundwater\\\\Projects\\\\BCM\\\\Data\\\\Results.gdb\"\n",
    "zone_gdb(indata)"
   ]
  },
  {
   "cell_type": "code",
   "execution_count": null,
   "metadata": {
    "collapsed": true,
    "deletable": true,
    "editable": true
   },
   "outputs": [],
   "source": [
    "indata = \"H:/GIS/PRISM/PRISM_all.gdb\"\n",
    "zone_gdb(indata, 'a20*')"
   ]
  },
  {
   "cell_type": "code",
   "execution_count": null,
   "metadata": {
    "collapsed": true,
    "deletable": true,
    "editable": true
   },
   "outputs": [],
   "source": [
    "indata = 'H:/GIS/MODIS16.gdb'\n",
    "zone_gdb(indata)"
   ]
  },
  {
   "cell_type": "code",
   "execution_count": null,
   "metadata": {
    "collapsed": true,
    "deletable": true,
    "editable": true
   },
   "outputs": [],
   "source": [
    "indata = \"H:/GIS/SIR2010_5193_BCM.gdb\"\n",
    "zone_gdb(indata)\n",
    "\n",
    "indata = \"H:/GIS/Soil.gdb\"\n",
    "zone_gdb(indata)"
   ]
  },
  {
   "cell_type": "code",
   "execution_count": null,
   "metadata": {
    "collapsed": true,
    "deletable": true,
    "editable": true
   },
   "outputs": [],
   "source": [
    "indata = 'H:/GIS/SNODAS.gdb'\n",
    "zone_gdb(indata, 'RAIN20*')"
   ]
  },
  {
   "cell_type": "code",
   "execution_count": null,
   "metadata": {
    "collapsed": true,
    "deletable": true,
    "editable": true
   },
   "outputs": [],
   "source": [
    "indata = 'H:/GIS/AvailableWater3.gdb'\n",
    "zone_gdb(indata)"
   ]
  },
  {
   "cell_type": "markdown",
   "metadata": {
    "deletable": true,
    "editable": true
   },
   "source": [
    "# Store Zonal Data in Database"
   ]
  },
  {
   "cell_type": "code",
   "execution_count": null,
   "metadata": {
    "collapsed": true,
    "deletable": true,
    "editable": true
   },
   "outputs": [],
   "source": [
    "def calcvols(searchStr,source,variable, stat='MEAN', mult = 1.0):\n",
    "    tables = arcpy.ListTables(searchStr)\n",
    "    fields = arcpy.ListFields(tables[0])\n",
    "    #for table in prism_tables:\n",
    "    fieldlist = [field.name for field in fields]\n",
    "\n",
    "    f = {}\n",
    "    for table in tables:\n",
    "        f[table] = pd.DataFrame(arcpy.da.TableToNumPyArray(table,fieldlist))\n",
    "    g = pd.concat(f)\n",
    "    g.reset_index(inplace=True)\n",
    "    \n",
    "    g['YearMonth'] = g['level_0'].apply(lambda x: str(x)[-9:-3] if str(x)[-3:]=='SUM' else str(x)[-6:],1)\n",
    "    g['HUC_10'] = g['HUC_12'].apply(lambda x: str(x)[:-2],1)\n",
    "    g['HUC_08'] = g['HUC_12'].apply(lambda x: str(x)[:-4],1)\n",
    "    g.drop(['level_0','level_1','OBJECTID','ZONE_CODE'],axis=1,inplace=True)\n",
    "    g['SOURCE'] = source\n",
    "    g['variable'] = variable\n",
    "    g['volume_m_cubed'] = g[stat]*g['AREA']* mult\n",
    "    g['volume_acft'] = g['volume_m_cubed']*0.000810714\n",
    "    #g = g[(~g.YearMonth.str.contains('yr'))]\n",
    "    #g['dt'] = pd.to_datetime(g.YearMonth,errors='coerce',format='%Y%m')\n",
    "    return g"
   ]
  },
  {
   "cell_type": "code",
   "execution_count": null,
   "metadata": {
    "collapsed": false,
    "deletable": true,
    "editable": true
   },
   "outputs": [],
   "source": [
    "#tabplace = 'U:/GWP/Groundwater/Projects/BCM/Data/Zonal.gdb'\n",
    "tabplace = \"H:/GIS/Zonal2.gdb/\"\n",
    "outfold = 'M:/PROJECTS/UBM/'\n",
    "\n",
    "tabname = 'bdgt'\n",
    "arcpy.env.workspace = tabplace"
   ]
  },
  {
   "cell_type": "markdown",
   "metadata": {
    "deletable": true,
    "editable": true
   },
   "source": [
    "## UBM"
   ]
  },
  {
   "cell_type": "code",
   "execution_count": null,
   "metadata": {
    "collapsed": false,
    "deletable": true,
    "editable": true
   },
   "outputs": [],
   "source": [
    "g = calcvols('z_run*','UBM','runoff')\n",
    "g.to_sql(con=engine, name=tabname, if_exists='append', index=False)"
   ]
  },
  {
   "cell_type": "code",
   "execution_count": null,
   "metadata": {
    "collapsed": true,
    "deletable": true,
    "editable": true
   },
   "outputs": [],
   "source": [
    "g = calcvols('z_rec*','UBM','recharge')\n",
    "g.to_sql(con=engine, name=tabname, if_exists='append', index=False)"
   ]
  },
  {
   "cell_type": "markdown",
   "metadata": {
    "deletable": true,
    "editable": true
   },
   "source": [
    "## PRISM"
   ]
  },
  {
   "cell_type": "code",
   "execution_count": null,
   "metadata": {
    "collapsed": true,
    "deletable": true,
    "editable": true
   },
   "outputs": [],
   "source": [
    "g = calcvols('z_a*','PRISM','precipitation')\n",
    "g.to_sql(con=engine, name=tabname, if_exists='append', index=False)"
   ]
  },
  {
   "cell_type": "markdown",
   "metadata": {
    "deletable": true,
    "editable": true
   },
   "source": [
    "## MODIS16"
   ]
  },
  {
   "cell_type": "code",
   "execution_count": null,
   "metadata": {
    "collapsed": true,
    "deletable": true,
    "editable": true
   },
   "outputs": [],
   "source": [
    "g = calcvols('z_ET*','MODIS16','evapotranspiration')\n",
    "g.to_sql(con=engine, name = tabname, if_exists='append', index=False)"
   ]
  },
  {
   "cell_type": "code",
   "execution_count": null,
   "metadata": {
    "collapsed": true,
    "deletable": true,
    "editable": true
   },
   "outputs": [],
   "source": [
    "g = calcvols('z_PET*','MODIS16','evapotranspiration')\n",
    "g.to_sql(con=engine, name = tabname, if_exists='append', index=False)"
   ]
  },
  {
   "cell_type": "markdown",
   "metadata": {
    "deletable": true,
    "editable": true
   },
   "source": [
    "## BCM"
   ]
  },
  {
   "cell_type": "code",
   "execution_count": null,
   "metadata": {
    "collapsed": false,
    "deletable": true,
    "editable": true
   },
   "outputs": [],
   "source": [
    "g = calcvols('z_sir20105193_rch*','BCM','recharge', mult=0.000001)\n",
    "g.to_sql(con=engine, name = tabname, if_exists='append', index=False)\n",
    "\n",
    "g = calcvols('z_sir20105193_run*','BCM','runoff', mult=0.000001)\n",
    "g.to_sql(con=engine, name = tabname, if_exists='append', index=False)"
   ]
  },
  {
   "cell_type": "markdown",
   "metadata": {
    "deletable": true,
    "editable": true
   },
   "source": [
    "## Soil Properties"
   ]
  },
  {
   "cell_type": "code",
   "execution_count": null,
   "metadata": {
    "collapsed": false,
    "deletable": true,
    "editable": true
   },
   "outputs": [],
   "source": [
    "g = calcvols('z_porosity*','Surrgo','porosity')\n",
    "g.to_sql(con=engine, name=tabname, if_exists='append', index=False)\n",
    "\n",
    "g = calcvols('z_fieldC*','Surrgo','field capacity')\n",
    "g.to_sql(con=engine, name = tabname, if_exists='append', index=False)\n",
    "\n",
    "g = calcvols('z_Wilt*','Surrgo','wilting point')\n",
    "g.to_sql(con=engine, name = tabname, if_exists='append', index=False)\n",
    "\n",
    "g = calcvols('z_Tsoi*','Surrgo','total soil moisture')\n",
    "g.to_sql(con=engine, name = tabname, if_exists='append', index=False)\n",
    "\n",
    "g = calcvols('z_Geo*','State Geologic Maps','conductivity')\n",
    "g.to_sql(con=engine, name = tabname, if_exists='append', index=False)"
   ]
  },
  {
   "cell_type": "markdown",
   "metadata": {
    "deletable": true,
    "editable": true
   },
   "source": [
    "## SNODAS"
   ]
  },
  {
   "cell_type": "code",
   "execution_count": null,
   "metadata": {
    "collapsed": false,
    "deletable": true,
    "editable": true
   },
   "outputs": [],
   "source": [
    "g = calcvols('*_SNML*','SNODAS','snowmelt')\n",
    "g.to_sql(con=engine, name = tabname, if_exists='append', index=False)"
   ]
  },
  {
   "cell_type": "code",
   "execution_count": null,
   "metadata": {
    "collapsed": true,
    "deletable": true,
    "editable": true
   },
   "outputs": [],
   "source": [
    "g = calcvols('*_RAIN*','SNODAS','precip as rain')\n",
    "g.to_sql(con=engine, name = tabname, if_exists='append', index=False)"
   ]
  },
  {
   "cell_type": "code",
   "execution_count": null,
   "metadata": {
    "collapsed": false,
    "deletable": true,
    "editable": true
   },
   "outputs": [],
   "source": [
    "g = calcvols('*_SNOW*','SNODAS','precip as snow')\n",
    "g.to_sql(con=engine, name = tabname, if_exists='append', index=False)\n",
    "\n",
    "g = calcvols('*_TPPT*','SNODAS','total precip')\n",
    "g.to_sql(con=engine, name = tabname, if_exists='append', index=False)\n",
    "\n",
    "g = calcvols('*_TSSB*','SNODAS','total snow sublimation')\n",
    "g.to_sql(con=engine, name = tabname, if_exists='append', index=False)\n",
    "\n",
    "g = calcvols('*_SWEQ*','SNODAS','snow water equivalent')\n",
    "g.to_sql(con=engine, name = tabname, if_exists='append', index=False)"
   ]
  },
  {
   "cell_type": "markdown",
   "metadata": {
    "deletable": true,
    "editable": true
   },
   "source": [
    "# Query Database and Analyze Data"
   ]
  },
  {
   "cell_type": "markdown",
   "metadata": {
    "deletable": true,
    "editable": true
   },
   "source": [
    "## Compare UBM with BCM"
   ]
  },
  {
   "cell_type": "code",
   "execution_count": null,
   "metadata": {
    "collapsed": false,
    "deletable": true,
    "editable": true
   },
   "outputs": [],
   "source": [
    "quer = \"SELECT HUC_12, volume_acft FROM ubm.zbudgetadd WHERE SOURCE = 'BCM' AND variable IN('runoff')\"\n",
    "BCMrun = pd.read_sql_query(sql=quer,con=engine)\n",
    "BCMrun.rename(columns={'volume_acft':'BCM_run_acft'},inplace=True)\n",
    "\n",
    "quer = \"SELECT HUC_12, volume_acft FROM ubm.zbudgetadd WHERE SOURCE = 'BCM' AND variable IN('recharge')\"\n",
    "BCMrec = pd.read_sql_query(sql=quer,con=engine)\n",
    "BCMrec.rename(columns={'volume_acft':'BCM_rec_acft'},inplace=True)\n",
    "\n",
    "BCMrun.set_index(['HUC_12'],inplace=True)\n",
    "BCMrec.set_index(['HUC_12'],inplace=True)\n",
    "\n",
    "BCM = pd.concat([BCMrun,BCMrec],axis=1)"
   ]
  },
  {
   "cell_type": "code",
   "execution_count": null,
   "metadata": {
    "collapsed": false,
    "deletable": true,
    "editable": true
   },
   "outputs": [],
   "source": [
    "quer = \"SELECT HUC_12,YearMonth,volume_acft FROM ubm.zbudgetadd WHERE SOURCE = 'UBM' AND variable IN('runoff')\"\n",
    "UBM = pd.read_sql_query(sql=quer,con=engine)\n",
    "\n",
    "UBM['dt'] = pd.to_datetime(UBM.YearMonth,errors='coerce',format='%Y%m')\n",
    "UBM['year'] = UBM['dt'].apply(lambda x: x.year,1)\n",
    "UBMyrly = UBM.groupby(['HUC_12','year']).sum()\n",
    "UBMyrly.reset_index(inplace=True)\n",
    "UBMavgrun = UBMyrly.groupby('HUC_12').mean()\n",
    "UBMavgrun.drop(['year'], axis=1, inplace=True)\n",
    "UBMavgrun.rename(columns={'volume_acft':'UBM_run_acft'},inplace=True)\n",
    "\n",
    "quer = \"SELECT HUC_12,YearMonth,volume_acft FROM ubm.zbudgetadd WHERE SOURCE = 'UBM' AND variable IN('recharge')\"\n",
    "UBM = pd.read_sql_query(sql=quer,con=engine)\n",
    "\n",
    "UBM['dt'] = pd.to_datetime(UBM.YearMonth,errors='coerce',format='%Y%m')\n",
    "UBM['year'] = UBM['dt'].apply(lambda x: x.year,1)\n",
    "UBMyrly = UBM.groupby(['HUC_12','year']).sum()\n",
    "UBMyrly.reset_index(inplace=True)\n",
    "UBMavgrec = UBMyrly.groupby('HUC_12').mean()\n",
    "UBMavgrec.drop(['year'], axis=1, inplace=True)\n",
    "UBMavgrec.rename(columns={'volume_acft':'UBM_rec_acft'},inplace=True)\n",
    "\n",
    "UBM = pd.concat([UBMavgrun,UBMavgrec],axis=1)"
   ]
  },
  {
   "cell_type": "code",
   "execution_count": null,
   "metadata": {
    "collapsed": false,
    "deletable": true,
    "editable": true
   },
   "outputs": [],
   "source": [
    "BM = pd.concat([BCM,UBM],axis=1)"
   ]
  },
  {
   "cell_type": "code",
   "execution_count": null,
   "metadata": {
    "collapsed": false,
    "deletable": true,
    "editable": true
   },
   "outputs": [],
   "source": [
    "len(BM)"
   ]
  },
  {
   "cell_type": "code",
   "execution_count": null,
   "metadata": {
    "collapsed": false,
    "deletable": true,
    "editable": true
   },
   "outputs": [],
   "source": [
    "BM.dropna(inplace=True)"
   ]
  },
  {
   "cell_type": "code",
   "execution_count": null,
   "metadata": {
    "collapsed": true,
    "deletable": true,
    "editable": true
   },
   "outputs": [],
   "source": [
    "huclist = [160102030101,160102030102,160102030103,160102030104,160102030105,160102030201,160102030202,160102030203,\n",
    "           160102030204,160102030205,160102030206,160102030207,160102030208,160102030209,160102030301,160102030302,\n",
    "           160102030303,160102030304,160102030305,160102030306,160102030307,160102030401,160201020501,160201020502,\n",
    "           160201020503,160201020504,160201020505,160201020506,160201020601,160201020602,160201020603,160201020604,\n",
    "           160201020701,160201020702,160201020703,160202010101,160202010102,160202010103,160202010104,160202010105,\n",
    "           160202010106,160202010107,160202010108,160202010109,160202010201,160202010202,160202010203,160202010301,\n",
    "           160202010302,160202010401,160202010402,160202010403,160202010406,160202010500,160202010701,160202010702,\n",
    "           160202010801,160202010802,160202010803,160202010804,160202011001,160202011002,160202020101,160202020102,\n",
    "           160202020103,160202020104,160202020105,160202020106,160202020107,160202020202,160202020203,160202020204,\n",
    "           160202020205,160202020301,160202020302,160202020303,160202020304,160202020305,160202020306,160202020307,\n",
    "           160202020401,160202020402,160202020403,160202020404,160202020405,160202020501,160202020503,160202020601,\n",
    "           160202030502,160202030504,160202030505,160202040101,160202040102,160202040103,160202040104,160202040106,\n",
    "           160202040107,160202040201,160202040202,160202040204,160202040205,160202040206,160202040301,160202040302,\n",
    "           160202040303,160202040304,160202040306,160202040307,160202040404,160202040405,160300030706,160300050101,\n",
    "           160300050102,160300050103,160300050104,160300050201,160300050202,160300050203,160300050204,160300050205,\n",
    "           160300050206,160300050301,160300050302,160300050303,160300050304,160300050401,160300050402,160300050403,\n",
    "           160300050404,160300050405,160300050406,160300050501,160300050503,160300050505,160300050506,160300050507,\n",
    "           160300050801,160300051201,160300051202,160300051301,160300051302,160300051303,160300051304,160300051305,\n",
    "           160300051307,160300051401,160300051402,160300051403,160300051404,160300051405,160300051406,160300051407,\n",
    "           160300051408,160300051409,160300051411,160300051502,160300051503,160300051504,160300051505,160300051507]"
   ]
  },
  {
   "cell_type": "code",
   "execution_count": null,
   "metadata": {
    "collapsed": false,
    "deletable": true,
    "editable": true
   },
   "outputs": [],
   "source": [
    "BM = BM[pd.to_numeric(BM.index).isin(huclist)]"
   ]
  },
  {
   "cell_type": "code",
   "execution_count": null,
   "metadata": {
    "collapsed": false,
    "deletable": true,
    "editable": true
   },
   "outputs": [],
   "source": [
    "import statsmodels.api as sm\n",
    "\n",
    "x = BM['UBM_run_acft'].values\n",
    "Y = BM['BCM_run_acft'].values\n",
    "\n",
    "X = sm.add_constant(x)\n",
    "model = sm.OLS(Y,X)\n",
    "est = model.fit()\n",
    "const = est.params[0]\n",
    "slope = est.params[1]\n",
    "\n",
    "SIZE = 18\n",
    "plt.rc('font', size=SIZE) \n",
    "\n",
    "\n",
    "plt.plot(x, est.predict(X), c='g', label='simple linear regression m = {:.2f} b = {:.0f}, r^2 = {:.2f}'.format(slope, const,est.rsquared))\n",
    "plt.scatter(x,Y, label='model runoff comparison')\n",
    "x2 = range(int(np.min(x)),int(np.max(x)))\n",
    "plt.plot(x2,x2,'--', label='m=1')\n",
    "plt.legend(loc='upper left')\n",
    "plt.xlabel('UBM (acft/yr)')\n",
    "plt.ylabel('BCM (acft/yr)')\n",
    "plt.title('Runoff')\n",
    "#plt.xlim(-100,10000)\n",
    "#plt.ylim(-100,8000)\n",
    "plt.grid()\n",
    "plt.savefig('U:/GWP/Groundwater/Projects/BCM/Graphs/'+'runoff_bcm_vs_ubm.png')"
   ]
  },
  {
   "cell_type": "code",
   "execution_count": null,
   "metadata": {
    "collapsed": false,
    "deletable": true,
    "editable": true
   },
   "outputs": [],
   "source": [
    "import statsmodels.api as sm\n",
    "\n",
    "x = BM['UBM_rec_acft'].values\n",
    "Y = BM['BCM_rec_acft'].values\n",
    "\n",
    "X = sm.add_constant(x)\n",
    "model = sm.OLS(Y,X)\n",
    "est = model.fit()\n",
    "const = est.params[0]\n",
    "slope = est.params[1]\n",
    "\n",
    "SIZE = 18\n",
    "plt.rc('font', size=SIZE) \n",
    "\n",
    "plt.plot(x, est.predict(X), c='g', label='simple linear regression m = {:.2f} b = {:.0f}, r^2 = {:.2f}'.format(slope, const,est.rsquared))\n",
    "plt.scatter(x,Y, label='model recharge comparison')\n",
    "x2 = range(int(np.min(x)),int(np.max(x)))\n",
    "plt.plot(x2,x2,'--', label='m=1')\n",
    "\n",
    "plt.legend(loc='upper left')\n",
    "plt.xlabel('UBM (acft/yr)')\n",
    "plt.ylabel('BCM (acft/yr)')\n",
    "plt.title('Recharge')\n",
    "#plt.xlim(-100,10000)\n",
    "#plt.ylim(-100,8000)\n",
    "plt.grid()\n",
    "plt.savefig('U:/GWP/Groundwater/Projects/BCM/Graphs/'+'recharge_bcm_vs_ubm.png')"
   ]
  },
  {
   "cell_type": "code",
   "execution_count": null,
   "metadata": {
    "collapsed": false,
    "deletable": true,
    "editable": true
   },
   "outputs": [],
   "source": [
    "BM['UBM_comb_acft'] = BM['UBM_run_acft'] + BM['UBM_rec_acft']\n",
    "BM['BCM_comb_acft'] = BM['BCM_run_acft'] + BM['BCM_rec_acft']\n",
    "\n",
    "x = BM['UBM_comb_acft']\n",
    "Y = BM['BCM_comb_acft']\n",
    "\n",
    "X = sm.add_constant(x)\n",
    "model = sm.OLS(Y,X)\n",
    "est = model.fit()\n",
    "const = est.params[0]\n",
    "slope = est.params[1]\n",
    "\n",
    "SIZE = 18\n",
    "plt.rc('font', size=SIZE)   \n",
    "#matplotlib.rc('pdf', fonttype=42)\n",
    "plt.plot(x, est.predict(X), c='g', label='simple linear regression m = {:.2f} b = {:.0f}, r^2 = {:.2f}'.format(slope, const,est.rsquared))\n",
    "plt.scatter(x,Y, label='model runoff comparison')\n",
    "x2 = range(int(np.min(x)),int(np.max(x)))\n",
    "plt.plot(x2,x2,'--', label='m=1')\n",
    "plt.legend(loc='upper left')\n",
    "plt.xlabel('UBM (acft/yr)')\n",
    "plt.ylabel('BCM (acft/yr)')\n",
    "#plt.xlim(-100,12000)\n",
    "#plt.ylim(-100,14000)\n",
    "plt.title('Combined Runoff and Recharge')\n",
    "plt.grid()\n",
    "plt.savefig('U:/GWP/Groundwater/Projects/BCM/Graphs/'+'combined_bcm_vs_ubm.png')"
   ]
  },
  {
   "cell_type": "code",
   "execution_count": null,
   "metadata": {
    "collapsed": true,
    "deletable": true,
    "editable": true
   },
   "outputs": [],
   "source": [
    "BM.to_clipboard()"
   ]
  },
  {
   "cell_type": "code",
   "execution_count": null,
   "metadata": {
    "collapsed": true,
    "deletable": true,
    "editable": true
   },
   "outputs": [],
   "source": [
    "10133980\n",
    "\n",
    "10217000\n",
    "\n",
    "10172870\n",
    "\n",
    "10242000\n",
    "\n",
    "10234500\n",
    "\n",
    "10113500\n",
    "\n",
    "10011500\n",
    "\n",
    "10155000\n",
    "\n",
    "10172200"
   ]
  },
  {
   "cell_type": "code",
   "execution_count": null,
   "metadata": {
    "collapsed": false,
    "deletable": true,
    "editable": true
   },
   "outputs": [],
   "source": [
    "nw10128500 = wa.nwis(\"dv\",'10128500','sites',startDT='2004-01-01',endDT='2015-01-01')"
   ]
  },
  {
   "cell_type": "code",
   "execution_count": null,
   "metadata": {
    "collapsed": false,
    "deletable": true,
    "editable": true
   },
   "outputs": [],
   "source": [
    "nw = wa.nwis(\"dv\",'10133980','sites',startDT='2004-01-01',endDT='2015-01-01')"
   ]
  },
  {
   "cell_type": "code",
   "execution_count": null,
   "metadata": {
    "collapsed": false,
    "deletable": true,
    "editable": true
   },
   "outputs": [],
   "source": [
    "nw10128500.data.value.plot()\n",
    "plt.yscale('log')"
   ]
  },
  {
   "cell_type": "code",
   "execution_count": null,
   "metadata": {
    "collapsed": false,
    "deletable": true,
    "editable": true
   },
   "outputs": [],
   "source": [
    "#nw.data.index = nw.data.index.to_datetime()\n",
    "\n",
    "#nw.data.value.plot()\n",
    "\n",
    "recess = nw.data[nw.data['value'].diff(2) < 0.0].copy()\n",
    "\n",
    "recess = recess.resample('1D').mean()\n",
    "recess.value.plot()\n",
    "plt.legend()"
   ]
  },
  {
   "cell_type": "code",
   "execution_count": null,
   "metadata": {
    "collapsed": false,
    "deletable": true,
    "editable": true
   },
   "outputs": [],
   "source": [
    "recess.groupby(recess.index.month).mean().plot()"
   ]
  },
  {
   "cell_type": "code",
   "execution_count": null,
   "metadata": {
    "collapsed": false,
    "deletable": true,
    "editable": true
   },
   "outputs": [],
   "source": [
    "measflow = nw.data\n",
    "measflow['afm'] = measflow.value *60.3307\n",
    "monmeasflow = measflow['afm'].groupby(pd.TimeGrouper('M')).mean().plot()\n",
    "#monmeasflow['afm']\n",
    "#rungrp['volume_acft'].plot()\n",
    "#recgrp['volume_acft'].plot()"
   ]
  },
  {
   "cell_type": "code",
   "execution_count": null,
   "metadata": {
    "collapsed": false,
    "deletable": true,
    "editable": true
   },
   "outputs": [],
   "source": [
    "monmeasflow"
   ]
  },
  {
   "cell_type": "markdown",
   "metadata": {
    "deletable": true,
    "editable": true
   },
   "source": [
    "## Snotel"
   ]
  },
  {
   "cell_type": "code",
   "execution_count": null,
   "metadata": {
    "collapsed": false,
    "deletable": true,
    "editable": true
   },
   "outputs": [],
   "source": [
    "# Set environment settings\n",
    "arcpy.env.workspace = \"H:/GIS/Results.gdb/\"\n",
    "arcpy.env.overwriteOutput = True\n",
    "# Set local variables\n",
    "memoryFeature = \"H:/GIS/UT_BASE.gdb/Snotel\"\n",
    "\n",
    "\n",
    "inRasterList = []\n",
    "\n",
    "monthRange = [1,12] \n",
    "yearRange = [2008,2015]\n",
    "\n",
    "for y in range(yearRange[0],yearRange[1]+1): #set years converted here\n",
    "    for m in range(monthRange[0],monthRange[1]+1): #set months converted here\n",
    "        my = 'asw' + str(y) + str(m).zfill(2)\n",
    "\n",
    "        arcpy.sa.ExtractValuesToPoints(memoryFeature, my, 'SnotelPoints',\"INTERPOLATE\", \"VALUE_ONLY\")\n",
    "        memoryFeature = \"in_memory/myMemoryFeature\"\n",
    "        arcpy.CopyFeatures_management('SnotelPoints', memoryFeature)\n",
    "        arcpy.AlterField_management(memoryFeature,'RASTERVALU',my,my)\n",
    "        inPointFeatures = 'SnotelPoints'\n",
    "        print(my)"
   ]
  },
  {
   "cell_type": "code",
   "execution_count": null,
   "metadata": {
    "collapsed": true,
    "deletable": true,
    "editable": true
   },
   "outputs": [],
   "source": []
  },
  {
   "cell_type": "markdown",
   "metadata": {
    "collapsed": true,
    "deletable": true,
    "editable": true
   },
   "source": [
    "## SNODAS Processing"
   ]
  },
  {
   "cell_type": "code",
   "execution_count": null,
   "metadata": {
    "collapsed": false,
    "deletable": true,
    "editable": true
   },
   "outputs": [],
   "source": [
    "quer = \"SELECT HUC_12,YearMonth,SOURCE,variable,volume_acft FROM ubm.zbudget;\"\n",
    "budg = pd.read_sql_query(sql=quer,con=engine)\n",
    "budg.ix[budg['SOURCE']=='MODIS','YearMonth'] = budg['YearMonth'].apply(lambda x: x[3:],1)\n",
    "budg.ix[budg['SOURCE']=='SNODAS','YearMonth'] = budg['YearMonth'].apply(lambda x: x[-9:-3],1)\n",
    "budg = budg[budg['YearMonth']>200000]\n",
    "budg['dt'] = pd.to_datetime(budg.YearMonth,errors='coerce',format='%Y%m')\n",
    "budg.drop(['SOURCE','YearMonth'],axis=1,inplace=True)\n",
    "budg['HUC_08'] = budg['HUC_12'].apply(lambda x: str(x)[:-4], 1)\n",
    "prov12 = budg[budg['HUC_12'].isin(['160202030403','160202030402','160202030404'])]\n",
    "provo = prov12.groupby(['dt','variable']).sum()\n",
    "provo.reset_index(inplace=True)\n",
    "provpiv = provo.pivot(index='dt',columns='variable',values='volume_acft')\n",
    "provpiv['precipitation'] = provpiv['precipitation']/100.0\n",
    "provpiv = provpiv[provpiv['snow water equivalent']<100000]\n"
   ]
  },
  {
   "cell_type": "code",
   "execution_count": null,
   "metadata": {
    "collapsed": false,
    "deletable": true,
    "editable": true
   },
   "outputs": [],
   "source": [
    "prov12 = budg[budg['HUC_12'].isin(['160202030403','160202030402','160202030404'])]\n",
    "provo = prov12.groupby(['dt','variable']).sum()\n",
    "provo.reset_index(inplace=True)\n",
    "provpiv = provo.pivot(index='dt',columns='variable',values='volume_acft')\n",
    "provpiv['precipitation'] = provpiv['precipitation']/100.0\n",
    "provpiv = provpiv[provpiv['snow water equivalent']<100000]\n"
   ]
  },
  {
   "cell_type": "code",
   "execution_count": null,
   "metadata": {
    "collapsed": false,
    "deletable": true,
    "editable": true
   },
   "outputs": [],
   "source": [
    "provpivmo = provpiv.groupby(provpiv.index.month).median()\n",
    "provpivmo.to_csv()"
   ]
  },
  {
   "cell_type": "code",
   "execution_count": null,
   "metadata": {
    "collapsed": false,
    "deletable": true,
    "editable": true
   },
   "outputs": [],
   "source": [
    "provpivmo.sum().to_clipboard(engineroute+\"ZoneData.csv\")"
   ]
  },
  {
   "cell_type": "code",
   "execution_count": null,
   "metadata": {
    "collapsed": false,
    "deletable": true,
    "editable": true
   },
   "outputs": [],
   "source": [
    "provpiv"
   ]
  },
  {
   "cell_type": "code",
   "execution_count": null,
   "metadata": {
    "collapsed": false,
    "deletable": true,
    "editable": true
   },
   "outputs": [],
   "source": [
    "provpivmo['total precip'].sum()"
   ]
  },
  {
   "cell_type": "code",
   "execution_count": null,
   "metadata": {
    "collapsed": false,
    "deletable": true,
    "editable": true
   },
   "outputs": [],
   "source": [
    "provpiv['precipitation'] = provpiv['precipitation']/100.0\n",
    "provpiv = provpiv[provpiv['snow water equivalent']<1e7]\n",
    "provpiv.plot()"
   ]
  },
  {
   "cell_type": "code",
   "execution_count": null,
   "metadata": {
    "collapsed": true,
    "deletable": true,
    "editable": true
   },
   "outputs": [],
   "source": [
    "pp"
   ]
  },
  {
   "cell_type": "code",
   "execution_count": null,
   "metadata": {
    "collapsed": false,
    "deletable": true,
    "editable": true
   },
   "outputs": [],
   "source": [
    "pp = provpiv.dropna()\n",
    "x = pp[u'precipitation'].values\n",
    "y = pp[u'total precip'].values\n",
    "w = pp.index.to_julian_date()\n",
    "wa.graphs.scatterColor(x,y,x)"
   ]
  },
  {
   "cell_type": "code",
   "execution_count": null,
   "metadata": {
    "collapsed": true,
    "deletable": true,
    "editable": true
   },
   "outputs": [],
   "source": [
    "provo.pivot(index='dt',columns='variable',values='volume_acft')"
   ]
  }
 ],
 "metadata": {
  "kernelspec": {
   "display_name": "Python 2",
   "language": "python",
   "name": "python2"
  },
  "language_info": {
   "codemirror_mode": {
    "name": "ipython",
    "version": 2
   },
   "file_extension": ".py",
   "mimetype": "text/x-python",
   "name": "python",
   "nbconvert_exporter": "python",
   "pygments_lexer": "ipython2",
   "version": "2.7.10"
  },
  "widgets": {
   "state": {},
   "version": "1.1.1"
  }
 },
 "nbformat": 4,
 "nbformat_minor": 0
}
